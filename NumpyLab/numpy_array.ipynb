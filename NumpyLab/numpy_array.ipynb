{
 "cells": [
  {
   "cell_type": "markdown",
   "metadata": {},
   "source": [
    "#### Step1: ตรวจสอบว่า library ของ numpy ถูกติดตั้งอยู่หรือไม่"
   ]
  },
  {
   "cell_type": "code",
   "execution_count": 4,
   "metadata": {},
   "outputs": [
    {
     "name": "stdout",
     "output_type": "stream",
     "text": [
      "Name: numpy\n",
      "Version: 1.25.2\n",
      "Summary: Fundamental package for array computing in Python\n",
      "Home-page: https://www.numpy.org\n",
      "Author: Travis E. Oliphant et al.\n",
      "Author-email: \n",
      "License: BSD-3-Clause\n",
      "Location: d:\\pythonmlbcel\\env\\lib\\site-packages\n",
      "Requires: \n",
      "Required-by: \n",
      "Note: you may need to restart the kernel to use updated packages.\n"
     ]
    }
   ],
   "source": [
    "pip show numpy"
   ]
  },
  {
   "cell_type": "markdown",
   "metadata": {},
   "source": [
    "##### Step 2: ติดตั้ง numpy"
   ]
  },
  {
   "cell_type": "code",
   "execution_count": 2,
   "metadata": {},
   "outputs": [
    {
     "name": "stdout",
     "output_type": "stream",
     "text": [
      "Collecting numpyNote: you may need to restart the kernel to use updated packages.\n",
      "\n",
      "  Downloading numpy-1.25.2-cp310-cp310-win_amd64.whl (15.6 MB)\n",
      "Installing collected packages: numpy\n",
      "Successfully installed numpy-1.25.2\n"
     ]
    },
    {
     "name": "stderr",
     "output_type": "stream",
     "text": [
      "WARNING: You are using pip version 21.2.4; however, version 23.2.1 is available.\n",
      "You should consider upgrading via the 'd:\\PythonMLBCEL\\env\\Scripts\\python.exe -m pip install --upgrade pip' command.\n"
     ]
    }
   ],
   "source": [
    "pip install numpy"
   ]
  },
  {
   "cell_type": "markdown",
   "metadata": {},
   "source": [
    "#### Step 3: การสร้างอาเรย์ใน Numpy"
   ]
  },
  {
   "cell_type": "code",
   "execution_count": 13,
   "metadata": {},
   "outputs": [
    {
     "name": "stdout",
     "output_type": "stream",
     "text": [
      "10\n",
      "[1 2 3]\n",
      "[[1]\n",
      " [2]\n",
      " [3]]\n",
      "[[10 11 12]\n",
      " [13 14 15]]\n"
     ]
    }
   ],
   "source": [
    "import numpy as np\n",
    "\n",
    "# Scalar Array\n",
    "a = np.array(10)\n",
    "print(a)\n",
    "\n",
    "# Vector Array\n",
    "row = np.array([1, 2, 3]) # 1 row and 3 columns\n",
    "col = np.array([[1], [2], [3]]) # 3 rows and 1 column\n",
    "print(row)\n",
    "print(col)\n",
    "\n",
    "# Matrix Array\n",
    "mat = np.array([[10, 11, 12], [13, 14, 15]]) # 2 rows and 3 columns\n",
    "print(mat)"
   ]
  },
  {
   "cell_type": "markdown",
   "metadata": {},
   "source": [
    "#### Step 4: การสร้างตัวเลขสุ่ม"
   ]
  },
  {
   "cell_type": "code",
   "execution_count": 119,
   "metadata": {},
   "outputs": [
    {
     "name": "stdout",
     "output_type": "stream",
     "text": [
      "[0.19557896 0.77526368 0.63755977 0.30096787]\n",
      "[[0.92029568 0.71257023 0.66770062]\n",
      " [0.1847231  0.49394212 0.31566612]]\n",
      "[ 7  1  6  5  0 10]\n",
      "[[5 5 3]\n",
      " [3 3 4]]\n"
     ]
    }
   ],
   "source": [
    "# random เลขทศนิยม 0-1\n",
    "r1 = np.random.random(4) # สุ่ม vector ขนาด 4 ตัว\n",
    "r2 = np.random.random([2, 3]) # สุ่ม matrix ขนาด 2x3\n",
    "print(r1)\n",
    "print(r2)\n",
    "\n",
    "# random จำนวนเต็ม\n",
    "r3 = np.random.randint(0, 11, 6) # สุ่มจำนวนเต็ม 6 ตัว ตั้งแต่ 0-10\n",
    "r4 = np.random.randint(0, 11, [2, 3]) # สุ่มจำนวนเต็ม 2x3 ตั้งแต่ 0-10\n",
    "print(r3)\n",
    "print(r4)"
   ]
  },
  {
   "cell_type": "markdown",
   "metadata": {},
   "source": [
    "#### Step 5: เข้าถึงและเลือกสมาชิกในอาร์เรย์"
   ]
  },
  {
   "cell_type": "code",
   "execution_count": 127,
   "metadata": {},
   "outputs": [
    {
     "name": "stdout",
     "output_type": "stream",
     "text": [
      "4\n",
      "10\n",
      "[3 4 5 6 7]\n",
      "[1 2 3 4]\n",
      "[ 5  6  7  8  9 10]\n"
     ]
    }
   ],
   "source": [
    "vrow = np.array([1, 2, 3, 4, 5, 6, 7, 8, 9, 10])\n",
    "\n",
    "print(vrow[3]) # เลือกข้อมูลตำแหน่งที่ 3 จากข้อมูลใน vrow\n",
    "print(vrow[-1]) # เลือกข้อมูลตำแหน่งที่ 1 จากข้อมูลใน vrow\n",
    "print(vrow[2:7]) # เลือกข้อมูลตำแหน่งที่ 2 ถึง 6 จากข้อมูลใน vrow\n",
    "print(vrow[:4]) # เลือกข้อมูลตำแหน่งแรก ถึง 3 จากข้อมูลใน vrow\n",
    "print(vrow[4:]) # เลือกข้อมูลตำแหน่งที่ 4 ถึงตำแหน่งสุดท้าย จากข้อมูลใน vrow"
   ]
  },
  {
   "cell_type": "markdown",
   "metadata": {},
   "source": [
    "#### Step 6: การหาค่าทางสถิติของข้อมูลด้วย Numpy"
   ]
  },
  {
   "cell_type": "code",
   "execution_count": 136,
   "metadata": {},
   "outputs": [
    {
     "name": "stdout",
     "output_type": "stream",
     "text": [
      "[[ 1  2  3  4]\n",
      " [ 5  6  7  8]\n",
      " [ 9 10 11 12]]\n",
      "Max: 12\n",
      "Min: 1\n",
      "Mean: 6.5\n",
      "Median: 6.5\n",
      "Std: 3.452052529534663\n",
      "Var: 11.916666666666666\n"
     ]
    }
   ],
   "source": [
    "stat = np.array([[1,2,3,4],[5,6,7,8],[9,10,11,12]])\n",
    "\n",
    "print(stat)\n",
    "# หาค่าสูงสุด (max)\n",
    "print(\"Max:\", np.max(stat))\n",
    "# หาค่าต่ำสุด (min)\n",
    "print(\"Min:\", np.min(stat))\n",
    "# หาค่าเฉลี่ย (mean)\n",
    "print(\"Mean:\", np.mean(stat))\n",
    "# หาค่ามัธยฐาน (median)\n",
    "print(\"Median:\", np.median(stat))\n",
    "# หาค่าเบี่ยงเบนมาตรฐาน (std)\n",
    "print(\"Std:\", np.std(stat))\n",
    "# หาค่าความแปรปรวน (var)\n",
    "print(\"Var:\", np.var(stat))"
   ]
  }
 ],
 "metadata": {
  "kernelspec": {
   "display_name": "env",
   "language": "python",
   "name": "python3"
  },
  "language_info": {
   "codemirror_mode": {
    "name": "ipython",
    "version": 3
   },
   "file_extension": ".py",
   "mimetype": "text/x-python",
   "name": "python",
   "nbconvert_exporter": "python",
   "pygments_lexer": "ipython3",
   "version": "3.10.1"
  },
  "orig_nbformat": 4
 },
 "nbformat": 4,
 "nbformat_minor": 2
}

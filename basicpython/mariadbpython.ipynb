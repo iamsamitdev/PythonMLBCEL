{
 "cells": [
  {
   "cell_type": "markdown",
   "metadata": {},
   "source": [
    "#### Step 1: Importing the required libraries"
   ]
  },
  {
   "cell_type": "code",
   "execution_count": 9,
   "metadata": {},
   "outputs": [],
   "source": [
    "#import pymysql\n",
    "import pymysql\n",
    "\n",
    "# import connectmariadb\n",
    "from module import connectmariadb as con"
   ]
  },
  {
   "cell_type": "markdown",
   "metadata": {},
   "source": [
    "#### Step 2: Create table"
   ]
  },
  {
   "cell_type": "code",
   "execution_count": 10,
   "metadata": {},
   "outputs": [
    {
     "name": "stdout",
     "output_type": "stream",
     "text": [
      "Table created successfully\n"
     ]
    }
   ],
   "source": [
    "def create_table():\n",
    "    connection = con.connectdb()\n",
    "    cursor = connection.cursor()\n",
    "\n",
    "    # Create table\n",
    "    sql = \"\"\"\n",
    "        CREATE TABLE person (\n",
    "            id INT AUTO_INCREMENT PRIMARY KEY, \n",
    "            name VARCHAR(64), \n",
    "            address VARCHAR(255)\n",
    "        )\n",
    "    \"\"\"\n",
    "\n",
    "    try:\n",
    "        cursor.execute(sql)\n",
    "        print(\"Table created successfully\")\n",
    "    except pymysql.error:\n",
    "        print(pymsql.error)\n",
    "\n",
    "# เรียกใช้งานฟังก์ชัน\n",
    "create_table()"
   ]
  },
  {
   "cell_type": "markdown",
   "metadata": {},
   "source": [
    "#### Step 3: เพิ่มข้อมูลลงในตาราง (Insert Data)"
   ]
  },
  {
   "cell_type": "code",
   "execution_count": 13,
   "metadata": {},
   "outputs": [
    {
     "name": "stdout",
     "output_type": "stream",
     "text": [
      "Add person successfully\n"
     ]
    }
   ],
   "source": [
    "def add_person(name=\"\", address=\"\"):\n",
    "    connection = con.connectdb()\n",
    "    cursor = connection.cursor()\n",
    "\n",
    "    # Insert ข้อมูล\n",
    "    sql = f\"INSERT INTO person(name, address) VALUES('{name}', '{address}')\"\n",
    "    \n",
    "    try:\n",
    "        cursor.execute(sql)\n",
    "        connection.commit()\n",
    "        print(\"Add person successfully\")\n",
    "    except pymysql.error:\n",
    "        print(pymsql.error)\n",
    "\n",
    "# เรียกใช้งานฟังก์ชัน\n",
    "add_person('Winai', 'Lampang')"
   ]
  },
  {
   "cell_type": "markdown",
   "metadata": {},
   "source": [
    "#### Step 4: เรียกข้อมูลจากตาราง โดยใช้คำสั่ง SELECT"
   ]
  },
  {
   "cell_type": "code",
   "execution_count": 18,
   "metadata": {},
   "outputs": [
    {
     "name": "stdout",
     "output_type": "stream",
     "text": [
      "ID: 2\n",
      "Name: Winai\n",
      "Address: Lampang\n",
      "--------------------\n",
      "ID: 1\n",
      "Name: Samit\n",
      "Address: Thailand\n",
      "--------------------\n"
     ]
    }
   ],
   "source": [
    "def read_person():\n",
    "    connection = con.connectdb()\n",
    "    cursor = connection.cursor()\n",
    "\n",
    "    # Select ข้อมูล\n",
    "    sql = f\"SELECT * FROM person ORDER BY id DESC\"\n",
    "    \n",
    "    try:\n",
    "        cursor.execute(sql)\n",
    "        connection.commit()\n",
    "        # ดึงข้อมูลทั้งหมด\n",
    "        for row in cursor:\n",
    "            print(\"ID:\", row['id'])\n",
    "            print(\"Name:\", row['name'])\n",
    "            print(\"Address:\", row['address'])\n",
    "            print(\"--------------------\")\n",
    "    except pymysql.error:\n",
    "        print(pymsql.error)\n",
    "\n",
    "# เรียกใช้งานฟังก์ชัน\n",
    "read_person()"
   ]
  }
 ],
 "metadata": {
  "kernelspec": {
   "display_name": "env",
   "language": "python",
   "name": "python3"
  },
  "language_info": {
   "codemirror_mode": {
    "name": "ipython",
    "version": 3
   },
   "file_extension": ".py",
   "mimetype": "text/x-python",
   "name": "python",
   "nbconvert_exporter": "python",
   "pygments_lexer": "ipython3",
   "version": "3.10.1"
  },
  "orig_nbformat": 4
 },
 "nbformat": 4,
 "nbformat_minor": 2
}

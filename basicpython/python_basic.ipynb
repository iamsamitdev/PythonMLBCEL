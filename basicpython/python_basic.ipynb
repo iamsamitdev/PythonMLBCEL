{
 "cells": [
  {
   "cell_type": "markdown",
   "metadata": {},
   "source": [
    "#### 1. Variable in Python"
   ]
  },
  {
   "cell_type": "code",
   "execution_count": 24,
   "metadata": {},
   "outputs": [],
   "source": [
    "space_name = 'basicpython'"
   ]
  },
  {
   "cell_type": "code",
   "execution_count": 25,
   "metadata": {},
   "outputs": [
    {
     "name": "stdout",
     "output_type": "stream",
     "text": [
      "basicpython\n"
     ]
    }
   ],
   "source": [
    "print(space_name)"
   ]
  },
  {
   "cell_type": "code",
   "execution_count": 26,
   "metadata": {},
   "outputs": [
    {
     "data": {
      "text/plain": [
       "str"
      ]
     },
     "execution_count": 26,
     "metadata": {},
     "output_type": "execute_result"
    }
   ],
   "source": [
    "# การเช็คประเภทของตัวแปร\n",
    "type(space_name)"
   ]
  },
  {
   "cell_type": "code",
   "execution_count": 27,
   "metadata": {},
   "outputs": [
    {
     "name": "stdout",
     "output_type": "stream",
     "text": [
      "10\n",
      "20.5\n"
     ]
    }
   ],
   "source": [
    "# ตัวอย่างตัวแปรที่เป็นตัวเลข\n",
    "a = 10\n",
    "b = 20.50\n",
    "\n",
    "print(a)\n",
    "print(b)"
   ]
  },
  {
   "cell_type": "code",
   "execution_count": 28,
   "metadata": {},
   "outputs": [
    {
     "name": "stdout",
     "output_type": "stream",
     "text": [
      "<class 'int'>\n",
      "<class 'float'>\n"
     ]
    }
   ],
   "source": [
    "# เช็คประเภทของตัวแปร\n",
    "print(type(a))\n",
    "print(type(b))"
   ]
  },
  {
   "cell_type": "markdown",
   "metadata": {},
   "source": [
    "#### 2.ตัวอย่างการเขียนเงื่อนไขใน python"
   ]
  },
  {
   "cell_type": "code",
   "execution_count": 33,
   "metadata": {},
   "outputs": [
    {
     "name": "stdout",
     "output_type": "stream",
     "text": [
      "n is less than 0\n"
     ]
    }
   ],
   "source": [
    "# เงื่อนไข if...elif...else\n",
    "n = -1\n",
    "if n > 0:\n",
    "    print(\"n is larger than 0\")\n",
    "elif n == 0:\n",
    "    print(\"n is equal to 0\")\n",
    "else:\n",
    "    print(\"n is less than 0\")"
   ]
  },
  {
   "cell_type": "markdown",
   "metadata": {},
   "source": [
    "#### 3.การทำซ้ำ (Loops)"
   ]
  },
  {
   "cell_type": "code",
   "execution_count": 34,
   "metadata": {},
   "outputs": [
    {
     "name": "stdout",
     "output_type": "stream",
     "text": [
      "1\n",
      "2\n",
      "3\n",
      "4\n",
      "5\n",
      "6\n",
      "7\n",
      "8\n",
      "9\n",
      "10\n"
     ]
    }
   ],
   "source": [
    "# คำสั่ง for loop\n",
    "\n",
    "for i in range(1, 11):\n",
    "    print(i)"
   ]
  },
  {
   "cell_type": "code",
   "execution_count": 36,
   "metadata": {},
   "outputs": [
    {
     "name": "stdout",
     "output_type": "stream",
     "text": [
      "Round 1\n",
      "Round 2\n",
      "Round 3\n",
      "Round 4\n",
      "Round 5\n"
     ]
    }
   ],
   "source": [
    "# คำสั่ง while\n",
    "round = 1\n",
    "while round <= 5:\n",
    "    print(\"Round\", round)\n",
    "    round += 1"
   ]
  },
  {
   "cell_type": "markdown",
   "metadata": {},
   "source": [
    "#### 4. การสร้างตัวแปรแบบ List"
   ]
  },
  {
   "cell_type": "code",
   "execution_count": 42,
   "metadata": {},
   "outputs": [
    {
     "name": "stdout",
     "output_type": "stream",
     "text": [
      "[1, 2, 3, 4, 5]\n",
      "5\n",
      "4\n"
     ]
    }
   ],
   "source": [
    "numbers = [1, 2, 3, 4, 5]\n",
    "print(numbers)\n",
    "\n",
    "# การเข้าถึงสมาชิกใน list\n",
    "# ใช้ index ในการเข้าถึงสมาชิกใน list\n",
    "print(numbers[4]) # การเข้าถึงจากข้างหน้า\n",
    "print(numbers[-2]) # การเข้าถึงจากข้างหลัง"
   ]
  },
  {
   "cell_type": "code",
   "execution_count": 45,
   "metadata": {},
   "outputs": [
    {
     "name": "stdout",
     "output_type": "stream",
     "text": [
      "2\n",
      "6\n",
      "10\n"
     ]
    }
   ],
   "source": [
    "# การวนลูปอ่านข้อมูลใน list ด้วย for loop\n",
    "for n in numbers:\n",
    "    if n % 2 == 1:\n",
    "        print(n*2) # แสดงผลคูณด้วย 2"
   ]
  },
  {
   "cell_type": "markdown",
   "metadata": {},
   "source": [
    "#### 5. ตัวแปรประเภท Dictionary"
   ]
  },
  {
   "cell_type": "code",
   "execution_count": 49,
   "metadata": {},
   "outputs": [
    {
     "name": "stdout",
     "output_type": "stream",
     "text": [
      "100\n",
      "john\n",
      "jane\n",
      "jeremy\n",
      "100\n",
      "90\n",
      "95\n",
      "john 100\n",
      "jane 90\n",
      "jeremy 95\n"
     ]
    }
   ],
   "source": [
    "scores = {\n",
    "    'john': 100, \n",
    "    'jane': 90, \n",
    "    'jeremy': 95\n",
    "}\n",
    "\n",
    "print(scores['john'])\n",
    "\n",
    "# loop through dictionary\n",
    "for key in scores.keys():\n",
    "    print(key)\n",
    "\n",
    "for val in scores.values():\n",
    "    print(val)\n",
    "\n",
    "for key,val in scores.items():\n",
    "    print(key, val)"
   ]
  },
  {
   "cell_type": "markdown",
   "metadata": {},
   "source": [
    "#### 6. ตัวแปรประเภท Sets"
   ]
  },
  {
   "cell_type": "code",
   "execution_count": 52,
   "metadata": {},
   "outputs": [
    {
     "name": "stdout",
     "output_type": "stream",
     "text": [
      "{2, 3, 6, 7, 22, 77, 15}\n"
     ]
    }
   ],
   "source": [
    "number = {77, 2, 6, 7, 15, 22, 3, 15, 6}\n",
    "\n",
    "print(number)"
   ]
  },
  {
   "cell_type": "code",
   "execution_count": 53,
   "metadata": {},
   "outputs": [
    {
     "name": "stdout",
     "output_type": "stream",
     "text": [
      "2\n",
      "3\n",
      "6\n",
      "7\n",
      "22\n",
      "77\n",
      "15\n"
     ]
    }
   ],
   "source": [
    "# การวนลูป sets\n",
    "for n in number:\n",
    "    print(n)"
   ]
  },
  {
   "cell_type": "markdown",
   "metadata": {},
   "source": [
    "#### 7.การสร้างฟังก์ชันใน Python"
   ]
  },
  {
   "cell_type": "code",
   "execution_count": 60,
   "metadata": {},
   "outputs": [
    {
     "name": "stdout",
     "output_type": "stream",
     "text": [
      "Welcome to Python\n",
      "Welcome to Python\n"
     ]
    }
   ],
   "source": [
    "# สร้างฟังก์ชันแบบไม่มีการรับค่าพารามิเตอร์\n",
    "def welcome():\n",
    "    print(\"Welcome to Python\")\n",
    "\n",
    "# เรียกใช้งานฟังก์ชัน\n",
    "welcome()\n",
    "welcome()"
   ]
  },
  {
   "cell_type": "code",
   "execution_count": 68,
   "metadata": {},
   "outputs": [
    {
     "name": "stdout",
     "output_type": "stream",
     "text": [
      "200\n",
      "50\n"
     ]
    }
   ],
   "source": [
    "# ฟังก์ชันแบบมีการรับค่า\n",
    "def cal_area(width=0, height=0):\n",
    "    total = width * height\n",
    "    return total\n",
    "\n",
    "\n",
    "# เรียกใช้งานฟังก์ชัน\n",
    "print(cal_area(10,20))\n",
    "print(cal_area(5,10))"
   ]
  },
  {
   "cell_type": "markdown",
   "metadata": {},
   "source": [
    "#### 8.เรียกฟังก์ชันจากไฟล์ภายนอก"
   ]
  },
  {
   "cell_type": "code",
   "execution_count": 72,
   "metadata": {},
   "outputs": [
    {
     "name": "stdout",
     "output_type": "stream",
     "text": [
      "50\n",
      "15\n"
     ]
    }
   ],
   "source": [
    "from module import *\n",
    "\n",
    "print(cal_area(5, 10))\n",
    "print(plus(5, 10))"
   ]
  },
  {
   "cell_type": "markdown",
   "metadata": {},
   "source": [
    "#### 9. การใช้ library จากภายนอก"
   ]
  },
  {
   "cell_type": "code",
   "execution_count": 75,
   "metadata": {},
   "outputs": [
    {
     "name": "stdout",
     "output_type": "stream",
     "text": [
      "QRCode Generator Program\n",
      "Please type 'quit' to exit\n",
      "Invalid product code\n",
      "Invalid product code\n",
      "Invalid product code\n",
      "Invalid product code\n",
      "Thank you\n"
     ]
    }
   ],
   "source": [
    "import qrcode\n",
    "\n",
    "print(\"QRCode Generator Program\")\n",
    "print(\"Please type 'quit' to exit\")\n",
    "\n",
    "while True:\n",
    "    product_data = input(\"Please input your product code: \")\n",
    "\n",
    "    if product_data == 'quit':\n",
    "        print(\"Thank you\")\n",
    "        break\n",
    "    if len(product_data) == 5:\n",
    "        # Create qr code\n",
    "        img = qrcode.make(product_data)\n",
    "        type(img)\n",
    "        img.save(f\"product_qrcode/{product_data}.png\")\n",
    "    else:\n",
    "        print(\"Invalid product code\")\n",
    "        continue"
   ]
  }
 ],
 "metadata": {
  "kernelspec": {
   "display_name": "env",
   "language": "python",
   "name": "python3"
  },
  "language_info": {
   "codemirror_mode": {
    "name": "ipython",
    "version": 3
   },
   "file_extension": ".py",
   "mimetype": "text/x-python",
   "name": "python",
   "nbconvert_exporter": "python",
   "pygments_lexer": "ipython3",
   "version": "3.10.1"
  },
  "orig_nbformat": 4
 },
 "nbformat": 4,
 "nbformat_minor": 2
}

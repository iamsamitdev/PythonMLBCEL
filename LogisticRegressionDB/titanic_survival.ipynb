{
 "cells": [
  {
   "cell_type": "markdown",
   "metadata": {},
   "source": [
    "##### 1. Install library \"mysql-connector-python\""
   ]
  },
  {
   "cell_type": "code",
   "execution_count": 41,
   "metadata": {},
   "outputs": [
    {
     "name": "stdout",
     "output_type": "stream",
     "text": [
      "Name: mysql-connector-python\n",
      "Version: 8.1.0\n",
      "Summary: MySQL driver written in Python\n",
      "Home-page: http://dev.mysql.com/doc/connector-python/en/index.html\n",
      "Author: Oracle and/or its affiliates\n",
      "Author-email: \n",
      "License: GNU GPLv2 (with FOSS License Exception)\n",
      "Location: d:\\pythonmlbcel\\env\\lib\\site-packages\n",
      "Requires: protobuf\n",
      "Required-by: \n"
     ]
    }
   ],
   "source": [
    "#!pip install mysql-connector-python\n",
    "!pip show mysql-connector-python"
   ]
  },
  {
   "cell_type": "markdown",
   "metadata": {},
   "source": [
    "##### 2. Connect to mySQL/MariaDB database"
   ]
  },
  {
   "cell_type": "code",
   "execution_count": 42,
   "metadata": {},
   "outputs": [
    {
     "name": "stdout",
     "output_type": "stream",
     "text": [
      "<mysql.connector.connection_cext.CMySQLConnection object at 0x0000023895C34F70>\n"
     ]
    }
   ],
   "source": [
    "import mysql.connector\n",
    "\n",
    "# Connect to the database\n",
    "db_connection = mysql.connector.connect(\n",
    "    host=\"localhost\",\n",
    "    user=\"root\",\n",
    "    password=\"\",\n",
    "    database=\"pythondb\",\n",
    "    port=3306\n",
    ")\n",
    "\n",
    "# test connection\n",
    "print(db_connection)"
   ]
  },
  {
   "cell_type": "markdown",
   "metadata": {},
   "source": [
    "##### 3. Fetching the data from MariaDB to Pandas DataFrame"
   ]
  },
  {
   "cell_type": "code",
   "execution_count": 43,
   "metadata": {},
   "outputs": [
    {
     "name": "stderr",
     "output_type": "stream",
     "text": [
      "C:\\Users\\samit\\AppData\\Local\\Temp\\ipykernel_15328\\2677395829.py:7: UserWarning: pandas only supports SQLAlchemy connectable (engine/connection) or database string URI or sqlite3 DBAPI2 connection. Other DBAPI2 objects are not tested. Please consider using SQLAlchemy.\n",
      "  titanic_df = pd.read_sql_query(query, con=db_connection)\n"
     ]
    },
    {
     "data": {
      "text/html": [
       "<div>\n",
       "<style scoped>\n",
       "    .dataframe tbody tr th:only-of-type {\n",
       "        vertical-align: middle;\n",
       "    }\n",
       "\n",
       "    .dataframe tbody tr th {\n",
       "        vertical-align: top;\n",
       "    }\n",
       "\n",
       "    .dataframe thead th {\n",
       "        text-align: right;\n",
       "    }\n",
       "</style>\n",
       "<table border=\"1\" class=\"dataframe\">\n",
       "  <thead>\n",
       "    <tr style=\"text-align: right;\">\n",
       "      <th></th>\n",
       "      <th>PassengerId</th>\n",
       "      <th>Survived</th>\n",
       "      <th>Pclass</th>\n",
       "      <th>Name</th>\n",
       "      <th>Sex</th>\n",
       "      <th>Age</th>\n",
       "      <th>SibSp</th>\n",
       "      <th>Parch</th>\n",
       "      <th>Ticket</th>\n",
       "      <th>Fare</th>\n",
       "      <th>Cabin</th>\n",
       "      <th>Embarked</th>\n",
       "    </tr>\n",
       "  </thead>\n",
       "  <tbody>\n",
       "    <tr>\n",
       "      <th>0</th>\n",
       "      <td>1</td>\n",
       "      <td>0</td>\n",
       "      <td>3</td>\n",
       "      <td>Braund, Mr. Owen Harris</td>\n",
       "      <td>male</td>\n",
       "      <td>22</td>\n",
       "      <td>1</td>\n",
       "      <td>0</td>\n",
       "      <td>A/5 21171</td>\n",
       "      <td>7.2500</td>\n",
       "      <td></td>\n",
       "      <td>S</td>\n",
       "    </tr>\n",
       "    <tr>\n",
       "      <th>1</th>\n",
       "      <td>2</td>\n",
       "      <td>1</td>\n",
       "      <td>1</td>\n",
       "      <td>Cumings, Mrs. John Bradley (Florence Briggs Th...</td>\n",
       "      <td>female</td>\n",
       "      <td>38</td>\n",
       "      <td>1</td>\n",
       "      <td>0</td>\n",
       "      <td>PC 17599</td>\n",
       "      <td>71.2833</td>\n",
       "      <td>C85</td>\n",
       "      <td>C</td>\n",
       "    </tr>\n",
       "    <tr>\n",
       "      <th>2</th>\n",
       "      <td>3</td>\n",
       "      <td>1</td>\n",
       "      <td>3</td>\n",
       "      <td>Heikkinen, Miss. Laina</td>\n",
       "      <td>female</td>\n",
       "      <td>26</td>\n",
       "      <td>0</td>\n",
       "      <td>0</td>\n",
       "      <td>STON/O2. 3101282</td>\n",
       "      <td>7.9250</td>\n",
       "      <td></td>\n",
       "      <td>S</td>\n",
       "    </tr>\n",
       "    <tr>\n",
       "      <th>3</th>\n",
       "      <td>4</td>\n",
       "      <td>1</td>\n",
       "      <td>1</td>\n",
       "      <td>Futrelle, Mrs. Jacques Heath (Lily May Peel)</td>\n",
       "      <td>female</td>\n",
       "      <td>35</td>\n",
       "      <td>1</td>\n",
       "      <td>0</td>\n",
       "      <td>113803</td>\n",
       "      <td>53.1000</td>\n",
       "      <td>C123</td>\n",
       "      <td>S</td>\n",
       "    </tr>\n",
       "    <tr>\n",
       "      <th>4</th>\n",
       "      <td>5</td>\n",
       "      <td>0</td>\n",
       "      <td>3</td>\n",
       "      <td>Allen, Mr. William Henry</td>\n",
       "      <td>male</td>\n",
       "      <td>35</td>\n",
       "      <td>0</td>\n",
       "      <td>0</td>\n",
       "      <td>373450</td>\n",
       "      <td>8.0500</td>\n",
       "      <td></td>\n",
       "      <td>S</td>\n",
       "    </tr>\n",
       "    <tr>\n",
       "      <th>...</th>\n",
       "      <td>...</td>\n",
       "      <td>...</td>\n",
       "      <td>...</td>\n",
       "      <td>...</td>\n",
       "      <td>...</td>\n",
       "      <td>...</td>\n",
       "      <td>...</td>\n",
       "      <td>...</td>\n",
       "      <td>...</td>\n",
       "      <td>...</td>\n",
       "      <td>...</td>\n",
       "      <td>...</td>\n",
       "    </tr>\n",
       "    <tr>\n",
       "      <th>886</th>\n",
       "      <td>887</td>\n",
       "      <td>0</td>\n",
       "      <td>2</td>\n",
       "      <td>Montvila, Rev. Juozas</td>\n",
       "      <td>male</td>\n",
       "      <td>27</td>\n",
       "      <td>0</td>\n",
       "      <td>0</td>\n",
       "      <td>211536</td>\n",
       "      <td>13.0000</td>\n",
       "      <td></td>\n",
       "      <td>S</td>\n",
       "    </tr>\n",
       "    <tr>\n",
       "      <th>887</th>\n",
       "      <td>888</td>\n",
       "      <td>1</td>\n",
       "      <td>1</td>\n",
       "      <td>Graham, Miss. Margaret Edith</td>\n",
       "      <td>female</td>\n",
       "      <td>19</td>\n",
       "      <td>0</td>\n",
       "      <td>0</td>\n",
       "      <td>112053</td>\n",
       "      <td>30.0000</td>\n",
       "      <td>B42</td>\n",
       "      <td>S</td>\n",
       "    </tr>\n",
       "    <tr>\n",
       "      <th>888</th>\n",
       "      <td>889</td>\n",
       "      <td>0</td>\n",
       "      <td>3</td>\n",
       "      <td>Johnston, Miss. Catherine Helen \"Carrie\"</td>\n",
       "      <td>female</td>\n",
       "      <td>0</td>\n",
       "      <td>1</td>\n",
       "      <td>2</td>\n",
       "      <td>W./C. 6607</td>\n",
       "      <td>23.4500</td>\n",
       "      <td></td>\n",
       "      <td>S</td>\n",
       "    </tr>\n",
       "    <tr>\n",
       "      <th>889</th>\n",
       "      <td>890</td>\n",
       "      <td>1</td>\n",
       "      <td>1</td>\n",
       "      <td>Behr, Mr. Karl Howell</td>\n",
       "      <td>male</td>\n",
       "      <td>26</td>\n",
       "      <td>0</td>\n",
       "      <td>0</td>\n",
       "      <td>111369</td>\n",
       "      <td>30.0000</td>\n",
       "      <td>C148</td>\n",
       "      <td>C</td>\n",
       "    </tr>\n",
       "    <tr>\n",
       "      <th>890</th>\n",
       "      <td>891</td>\n",
       "      <td>0</td>\n",
       "      <td>3</td>\n",
       "      <td>Dooley, Mr. Patrick</td>\n",
       "      <td>male</td>\n",
       "      <td>32</td>\n",
       "      <td>0</td>\n",
       "      <td>0</td>\n",
       "      <td>370376</td>\n",
       "      <td>7.7500</td>\n",
       "      <td></td>\n",
       "      <td>Q</td>\n",
       "    </tr>\n",
       "  </tbody>\n",
       "</table>\n",
       "<p>891 rows × 12 columns</p>\n",
       "</div>"
      ],
      "text/plain": [
       "     PassengerId  Survived  Pclass  \\\n",
       "0              1         0       3   \n",
       "1              2         1       1   \n",
       "2              3         1       3   \n",
       "3              4         1       1   \n",
       "4              5         0       3   \n",
       "..           ...       ...     ...   \n",
       "886          887         0       2   \n",
       "887          888         1       1   \n",
       "888          889         0       3   \n",
       "889          890         1       1   \n",
       "890          891         0       3   \n",
       "\n",
       "                                                  Name     Sex  Age  SibSp  \\\n",
       "0                              Braund, Mr. Owen Harris    male   22      1   \n",
       "1    Cumings, Mrs. John Bradley (Florence Briggs Th...  female   38      1   \n",
       "2                               Heikkinen, Miss. Laina  female   26      0   \n",
       "3         Futrelle, Mrs. Jacques Heath (Lily May Peel)  female   35      1   \n",
       "4                             Allen, Mr. William Henry    male   35      0   \n",
       "..                                                 ...     ...  ...    ...   \n",
       "886                              Montvila, Rev. Juozas    male   27      0   \n",
       "887                       Graham, Miss. Margaret Edith  female   19      0   \n",
       "888           Johnston, Miss. Catherine Helen \"Carrie\"  female    0      1   \n",
       "889                              Behr, Mr. Karl Howell    male   26      0   \n",
       "890                                Dooley, Mr. Patrick    male   32      0   \n",
       "\n",
       "     Parch            Ticket     Fare Cabin Embarked  \n",
       "0        0         A/5 21171   7.2500              S  \n",
       "1        0          PC 17599  71.2833   C85        C  \n",
       "2        0  STON/O2. 3101282   7.9250              S  \n",
       "3        0            113803  53.1000  C123        S  \n",
       "4        0            373450   8.0500              S  \n",
       "..     ...               ...      ...   ...      ...  \n",
       "886      0            211536  13.0000              S  \n",
       "887      0            112053  30.0000   B42        S  \n",
       "888      2        W./C. 6607  23.4500              S  \n",
       "889      0            111369  30.0000  C148        C  \n",
       "890      0            370376   7.7500              Q  \n",
       "\n",
       "[891 rows x 12 columns]"
      ]
     },
     "execution_count": 43,
     "metadata": {},
     "output_type": "execute_result"
    }
   ],
   "source": [
    "import pandas as pd\n",
    "\n",
    "# Fetch data using a SQL query\n",
    "query = \"SELECT * FROM titanic\"\n",
    "\n",
    "# Pandas read_sql_query function\n",
    "titanic_df = pd.read_sql_query(query, con=db_connection)\n",
    "\n",
    "# Print the dataframe\n",
    "titanic_df"
   ]
  },
  {
   "cell_type": "markdown",
   "metadata": {},
   "source": [
    "##### 4. Data Preparation"
   ]
  },
  {
   "cell_type": "code",
   "execution_count": 44,
   "metadata": {},
   "outputs": [
    {
     "name": "stdout",
     "output_type": "stream",
     "text": [
      "     Age  SibSp  Parch     Fare\n",
      "0     22      1      0   7.2500\n",
      "1     38      1      0  71.2833\n",
      "2     26      0      0   7.9250\n",
      "3     35      1      0  53.1000\n",
      "4     35      0      0   8.0500\n",
      "..   ...    ...    ...      ...\n",
      "886   27      0      0  13.0000\n",
      "887   19      0      0  30.0000\n",
      "888    0      1      2  23.4500\n",
      "889   26      0      0  30.0000\n",
      "890   32      0      0   7.7500\n",
      "\n",
      "[891 rows x 4 columns]\n",
      "0      0\n",
      "1      1\n",
      "2      1\n",
      "3      1\n",
      "4      0\n",
      "      ..\n",
      "886    0\n",
      "887    1\n",
      "888    0\n",
      "889    1\n",
      "890    0\n",
      "Name: Survived, Length: 891, dtype: int64\n"
     ]
    }
   ],
   "source": [
    "# Cleansing NaN Values\n",
    "# 1. Drop NaN Values\n",
    "titanic_df = titanic_df[['Age', 'SibSp', 'Parch', 'Fare', 'Survived']].dropna()\n",
    "\n",
    "x = titanic_df[['Age', 'SibSp', 'Parch', 'Fare']] # Features\n",
    "y = titanic_df['Survived'] # Target\n",
    "\n",
    "print(x)\n",
    "print(y)"
   ]
  },
  {
   "cell_type": "markdown",
   "metadata": {},
   "source": [
    "##### 5. Splitting the data into train and test sets"
   ]
  },
  {
   "cell_type": "code",
   "execution_count": 45,
   "metadata": {},
   "outputs": [
    {
     "name": "stdout",
     "output_type": "stream",
     "text": [
      "     Age  SibSp  Parch     Fare\n",
      "815    0      0      0   0.0000\n",
      "877   19      0      0   7.8958\n",
      "193    3      1      1  26.0000\n",
      "523   44      0      1  57.9792\n",
      "634    9      3      2  27.9000\n",
      "..   ...    ...    ...      ...\n",
      "835   39      1      1  83.1583\n",
      "192   19      1      0   7.8542\n",
      "629    0      0      0   7.7333\n",
      "559   36      1      0  17.4000\n",
      "684   60      1      1  39.0000\n",
      "\n",
      "[801 rows x 4 columns]\n",
      "     Age  SibSp  Parch      Fare\n",
      "495    0      0      0   14.4583\n",
      "648    0      0      0    7.5500\n",
      "278    7      4      1   29.1250\n",
      "31     0      1      0  146.5208\n",
      "255   29      0      2   15.2458\n",
      "..   ...    ...    ...       ...\n",
      "627   21      0      0   77.9583\n",
      "380   42      0      0  227.5250\n",
      "483   63      0      0    9.5875\n",
      "516   34      0      0   10.5000\n",
      "505   18      1      0  108.9000\n",
      "\n",
      "[90 rows x 4 columns]\n",
      "815    0\n",
      "877    0\n",
      "193    1\n",
      "523    1\n",
      "634    0\n",
      "      ..\n",
      "835    1\n",
      "192    1\n",
      "629    0\n",
      "559    1\n",
      "684    0\n",
      "Name: Survived, Length: 801, dtype: int64\n",
      "495    0\n",
      "648    0\n",
      "278    0\n",
      "31     1\n",
      "255    1\n",
      "      ..\n",
      "627    1\n",
      "380    1\n",
      "483    1\n",
      "516    1\n",
      "505    0\n",
      "Name: Survived, Length: 90, dtype: int64\n"
     ]
    }
   ],
   "source": [
    "from sklearn.model_selection import train_test_split\n",
    "\n",
    "# Split the data into train and test sets\n",
    "x_train, x_test, y_train, y_test = train_test_split(x, y, test_size=0.1, random_state=0)\n",
    "\n",
    "print(x_train)\n",
    "print(x_test)\n",
    "print(y_train)\n",
    "print(y_test)"
   ]
  },
  {
   "cell_type": "markdown",
   "metadata": {},
   "source": [
    "##### 6. Scaling Data"
   ]
  },
  {
   "cell_type": "code",
   "execution_count": 46,
   "metadata": {},
   "outputs": [
    {
     "name": "stdout",
     "output_type": "stream",
     "text": [
      "[[-1.35855993 -0.4673543  -0.4680658  -0.63579689]\n",
      " [-0.28090312 -0.4673543  -0.4680658  -0.47501012]\n",
      " [-1.18840359  0.43036943  0.765226   -0.10634377]\n",
      " ...\n",
      " [-1.35855993 -0.4673543  -0.4680658  -0.47831921]\n",
      " [ 0.68331613  0.43036943 -0.4680658  -0.28147057]\n",
      " [ 2.04456684  0.43036943  0.765226    0.15838279]]\n",
      "[[-1.35855993e+00 -4.67354299e-01 -4.68065802e-01 -3.41374120e-01]\n",
      " [-1.35855993e+00 -4.67354299e-01 -4.68065802e-01 -4.82051851e-01]\n",
      " [-9.61528475e-01  3.12354061e+00  7.65225998e-01 -4.27075786e-02]\n",
      " [-1.35855993e+00  4.30369427e-01 -4.68065802e-01  2.34789137e+00]\n",
      " [ 2.86284677e-01 -4.67354299e-01  1.99851780e+00 -3.25337800e-01]\n",
      " [-1.35855993e+00 -4.67354299e-01 -4.68065802e-01 -1.47076540e-02]\n",
      " [ 9.10191252e-01 -4.67354299e-01 -4.68065802e-01  2.48924924e+00]\n",
      " [ 3.99722236e-01 -4.67354299e-01  1.99851780e+00  2.72147960e+00]\n",
      " [ 5.94095582e-02  4.30369427e-01 -4.68065802e-01  1.21890183e+00]\n",
      " [-1.35855993e+00 -4.67354299e-01 -4.68065802e-01 -4.88584488e-01]\n",
      " [ 1.16128338e-01  4.30369427e-01 -4.68065802e-01 -4.75857249e-01]\n",
      " [ 9.10191252e-01 -4.67354299e-01 -4.68065802e-01 -3.71070331e-01]\n",
      " [-1.35855993e+00 -4.67354299e-01 -4.68065802e-01 -4.77979135e-01]\n",
      " [-9.61528475e-01 -4.67354299e-01  1.99851780e+00 -1.01252876e-01]\n",
      " [ 2.69077856e-03 -4.67354299e-01 -4.68065802e-01  1.05760393e+00]\n",
      " [-5.64497017e-01 -4.67354299e-01 -4.68065802e-01 -4.75857249e-01]\n",
      " [-5.40280010e-02 -4.67354299e-01 -4.68065802e-01 -4.47942852e-01]\n",
      " [-2.80903119e-01  4.30369427e-01  7.65225998e-01  1.12564731e-01]\n",
      " [ 6.26597354e-01 -4.67354299e-01 -4.68065802e-01 -4.71870060e-01]\n",
      " [-1.35855993e+00 -4.67354299e-01  7.65225998e-01 -4.62366377e-01]\n",
      " [-3.37621899e-01 -4.67354299e-01 -4.68065802e-01 -4.01615704e-01]\n",
      " [-1.10746781e-01 -4.67354299e-01 -4.68065802e-01  2.45030389e+00]\n",
      " [-1.35855993e+00 -4.67354299e-01 -4.68065802e-01 -4.78233679e-01]\n",
      " [-1.35855993e+00 -4.67354299e-01 -4.68065802e-01 -4.52586320e-03]\n",
      " [-1.10746781e-01 -4.67354299e-01 -4.68065802e-01 -4.35470158e-01]\n",
      " [ 9.10191252e-01  4.30369427e-01  7.65225998e-01  2.10310483e+00]\n",
      " [ 4.56441015e-01 -4.67354299e-01 -4.68065802e-01 -4.75010124e-01]\n",
      " [-1.10746781e-01 -4.67354299e-01 -4.68065802e-01 -4.77979135e-01]\n",
      " [ 5.94095582e-02 -4.67354299e-01  7.65225998e-01 -1.06343771e-01]\n",
      " [-1.24512237e+00  2.22581688e+00  1.99851780e+00 -6.76529661e-02]\n",
      " [ 5.13159795e-01 -4.67354299e-01 -4.68065802e-01 -4.59397366e-01]\n",
      " [ 1.47737905e+00 -4.67354299e-01 -4.68065802e-01 -4.21979285e-01]\n",
      " [ 2.29565897e-01 -4.67354299e-01 -4.68065802e-01 -4.42342867e-01]\n",
      " [-1.35855993e+00 -4.67354299e-01 -4.68065802e-01  8.71102538e-02]\n",
      " [ 2.86284677e-01  4.30369427e-01 -4.68065802e-01 -4.92319169e-01]\n",
      " [ 4.56441015e-01 -4.67354299e-01 -4.68065802e-01 -1.47076540e-02]\n",
      " [ 1.08034759e+00 -4.67354299e-01 -4.68065802e-01 -5.04451791e-01]\n",
      " [ 2.29565897e-01 -4.67354299e-01 -4.68065802e-01 -4.21979285e-01]\n",
      " [ 5.94095582e-02 -4.67354299e-01 -4.68065802e-01 -3.71070331e-01]\n",
      " [ 1.70425417e+00 -4.67354299e-01 -4.68065802e-01 -3.50706750e-01]\n",
      " [ 2.04456684e+00  4.30369427e-01  7.65225998e-01  9.76998768e-01]\n",
      " [ 5.94095582e-02 -4.67354299e-01 -4.68065802e-01 -4.88670015e-01]\n",
      " [-1.35855993e+00 -4.67354299e-01 -4.68065802e-01 -3.40524959e-01]\n",
      " [-5.64497017e-01  3.12354061e+00  7.65225998e-01  1.72382752e-01]\n",
      " [ 6.26597354e-01  4.30369427e-01 -4.68065802e-01  1.06405308e+00]\n",
      " [-1.35855993e+00 -4.67354299e-01 -4.68065802e-01 -4.75010124e-01]\n",
      " [-1.35855993e+00 -4.67354299e-01 -4.68065802e-01 -4.75010124e-01]\n",
      " [-3.37621899e-01  1.32809315e+00  1.99851780e+00  4.70709782e+00]\n",
      " [ 8.53472472e-01 -4.67354299e-01 -4.68065802e-01 -3.71070331e-01]\n",
      " [ 1.59081661e+00  4.30369427e-01  7.65225998e-01  9.86162380e-01]\n",
      " [-1.35855993e+00 -4.67354299e-01 -4.68065802e-01 -2.48894448e-02]\n",
      " [-5.40280010e-02 -4.67354299e-01  7.65225998e-01  6.54405018e-01]\n",
      " [-1.13168481e+00  4.30369427e-01  7.65225998e-01 -1.67434516e-01]\n",
      " [-2.80903119e-01 -4.67354299e-01 -4.68065802e-01 -4.75010124e-01]\n",
      " [-1.35855993e+00 -4.67354299e-01 -4.68065802e-01 -3.09985192e-02]\n",
      " [ 2.69077856e-03  1.32809315e+00 -4.68065802e-01  8.60926353e-01]\n",
      " [ 2.15800440e+00 -4.67354299e-01 -4.68065802e-01 -9.51438012e-02]\n",
      " [-7.34653356e-01  3.12354061e+00  1.99851780e+00  1.07412173e-03]\n",
      " [-7.91372136e-01  2.22581688e+00  1.99851780e+00 -6.76529661e-02]\n",
      " [-1.35855993e+00  1.32809315e+00 -4.68065802e-01 -1.62343620e-01]\n",
      " [-1.10746781e-01 -4.67354299e-01 -4.68065802e-01 -4.88584488e-01]\n",
      " [ 2.86284677e-01 -4.67354299e-01  4.46510140e+00 -2.06634410e-01]\n",
      " [ 1.70425417e+00  4.30369427e-01 -4.68065802e-01  9.57993438e-01]\n",
      " [-1.35855993e+00 -4.67354299e-01 -4.68065802e-01  1.70600938e-01]\n",
      " [ 1.72847117e-01 -4.67354299e-01  1.99851780e+00 -4.09083029e-01]\n",
      " [ 4.56441015e-01 -4.67354299e-01 -4.68065802e-01 -4.77979135e-01]\n",
      " [ 1.42066027e+00 -4.67354299e-01 -4.68065802e-01 -1.07785513e-01]\n",
      " [ 2.29565897e-01 -4.67354299e-01  7.65225998e-01  3.62012999e-02]\n",
      " [-1.24512237e+00  4.30369427e-01  7.65225998e-01 -1.06343771e-01]\n",
      " [-2.80903119e-01 -4.67354299e-01 -4.68065802e-01 -2.48894448e-02]\n",
      " [ 2.69077856e-03  4.30369427e-01 -4.68065802e-01 -1.06343771e-01]\n",
      " [ 1.36394149e+00  4.30369427e-01 -4.68065802e-01  4.23109350e-01]\n",
      " [ 2.29565897e-01  4.30369427e-01 -4.68065802e-01  1.03749490e+00]\n",
      " [-1.35855993e+00 -4.67354299e-01 -4.68065802e-01 -4.71870060e-01]\n",
      " [ 2.69077856e-03 -4.67354299e-01 -4.68065802e-01 -4.71870060e-01]\n",
      " [ 3.43003456e-01  2.22581688e+00 -4.68065802e-01 -2.08161679e-01]\n",
      " [-2.80903119e-01  2.22581688e+00  1.99851780e+00  4.71982506e+00]\n",
      " [ 9.10191252e-01 -4.67354299e-01 -4.68065802e-01 -7.13021199e-02]\n",
      " [ 5.69878574e-01 -4.67354299e-01 -4.68065802e-01 -5.03519139e-01]\n",
      " [-1.35855993e+00 -4.67354299e-01 -4.68065802e-01 -3.29324989e-01]\n",
      " [-1.35855993e+00  4.30369427e-01 -4.68065802e-01 -1.44016397e-01]\n",
      " [-8.48090915e-01  4.30369427e-01  7.65225998e-01 -3.12015945e-01]\n",
      " [ 1.16128338e-01  4.30369427e-01  7.65225998e-01 -1.06343771e-01]\n",
      " [-4.51059458e-01 -4.67354299e-01 -4.68065802e-01 -4.77470045e-01]\n",
      " [ 1.25050393e+00 -4.67354299e-01 -4.68065802e-01 -1.06343771e-01]\n",
      " [-1.67465560e-01 -4.67354299e-01 -4.68065802e-01  9.51713309e-01]\n",
      " [ 1.02362881e+00 -4.67354299e-01 -4.68065802e-01  3.99742700e+00]\n",
      " [ 2.21472318e+00 -4.67354299e-01 -4.68065802e-01 -4.40561053e-01]\n",
      " [ 5.69878574e-01 -4.67354299e-01 -4.68065802e-01 -4.21979285e-01]\n",
      " [-3.37621899e-01  4.30369427e-01 -4.68065802e-01  1.58179714e+00]]\n"
     ]
    }
   ],
   "source": [
    "from sklearn.preprocessing import StandardScaler\n",
    "\n",
    "scaler = StandardScaler()\n",
    "\n",
    "x_train = scaler.fit_transform(x_train)\n",
    "x_test = scaler.transform(x_test)\n",
    "\n",
    "print(x_train)\n",
    "print(x_test)"
   ]
  },
  {
   "cell_type": "markdown",
   "metadata": {},
   "source": [
    "##### 7. Train the Model"
   ]
  },
  {
   "cell_type": "code",
   "execution_count": 47,
   "metadata": {},
   "outputs": [
    {
     "data": {
      "text/html": [
       "<style>#sk-container-id-2 {color: black;}#sk-container-id-2 pre{padding: 0;}#sk-container-id-2 div.sk-toggleable {background-color: white;}#sk-container-id-2 label.sk-toggleable__label {cursor: pointer;display: block;width: 100%;margin-bottom: 0;padding: 0.3em;box-sizing: border-box;text-align: center;}#sk-container-id-2 label.sk-toggleable__label-arrow:before {content: \"▸\";float: left;margin-right: 0.25em;color: #696969;}#sk-container-id-2 label.sk-toggleable__label-arrow:hover:before {color: black;}#sk-container-id-2 div.sk-estimator:hover label.sk-toggleable__label-arrow:before {color: black;}#sk-container-id-2 div.sk-toggleable__content {max-height: 0;max-width: 0;overflow: hidden;text-align: left;background-color: #f0f8ff;}#sk-container-id-2 div.sk-toggleable__content pre {margin: 0.2em;color: black;border-radius: 0.25em;background-color: #f0f8ff;}#sk-container-id-2 input.sk-toggleable__control:checked~div.sk-toggleable__content {max-height: 200px;max-width: 100%;overflow: auto;}#sk-container-id-2 input.sk-toggleable__control:checked~label.sk-toggleable__label-arrow:before {content: \"▾\";}#sk-container-id-2 div.sk-estimator input.sk-toggleable__control:checked~label.sk-toggleable__label {background-color: #d4ebff;}#sk-container-id-2 div.sk-label input.sk-toggleable__control:checked~label.sk-toggleable__label {background-color: #d4ebff;}#sk-container-id-2 input.sk-hidden--visually {border: 0;clip: rect(1px 1px 1px 1px);clip: rect(1px, 1px, 1px, 1px);height: 1px;margin: -1px;overflow: hidden;padding: 0;position: absolute;width: 1px;}#sk-container-id-2 div.sk-estimator {font-family: monospace;background-color: #f0f8ff;border: 1px dotted black;border-radius: 0.25em;box-sizing: border-box;margin-bottom: 0.5em;}#sk-container-id-2 div.sk-estimator:hover {background-color: #d4ebff;}#sk-container-id-2 div.sk-parallel-item::after {content: \"\";width: 100%;border-bottom: 1px solid gray;flex-grow: 1;}#sk-container-id-2 div.sk-label:hover label.sk-toggleable__label {background-color: #d4ebff;}#sk-container-id-2 div.sk-serial::before {content: \"\";position: absolute;border-left: 1px solid gray;box-sizing: border-box;top: 0;bottom: 0;left: 50%;z-index: 0;}#sk-container-id-2 div.sk-serial {display: flex;flex-direction: column;align-items: center;background-color: white;padding-right: 0.2em;padding-left: 0.2em;position: relative;}#sk-container-id-2 div.sk-item {position: relative;z-index: 1;}#sk-container-id-2 div.sk-parallel {display: flex;align-items: stretch;justify-content: center;background-color: white;position: relative;}#sk-container-id-2 div.sk-item::before, #sk-container-id-2 div.sk-parallel-item::before {content: \"\";position: absolute;border-left: 1px solid gray;box-sizing: border-box;top: 0;bottom: 0;left: 50%;z-index: -1;}#sk-container-id-2 div.sk-parallel-item {display: flex;flex-direction: column;z-index: 1;position: relative;background-color: white;}#sk-container-id-2 div.sk-parallel-item:first-child::after {align-self: flex-end;width: 50%;}#sk-container-id-2 div.sk-parallel-item:last-child::after {align-self: flex-start;width: 50%;}#sk-container-id-2 div.sk-parallel-item:only-child::after {width: 0;}#sk-container-id-2 div.sk-dashed-wrapped {border: 1px dashed gray;margin: 0 0.4em 0.5em 0.4em;box-sizing: border-box;padding-bottom: 0.4em;background-color: white;}#sk-container-id-2 div.sk-label label {font-family: monospace;font-weight: bold;display: inline-block;line-height: 1.2em;}#sk-container-id-2 div.sk-label-container {text-align: center;}#sk-container-id-2 div.sk-container {/* jupyter's `normalize.less` sets `[hidden] { display: none; }` but bootstrap.min.css set `[hidden] { display: none !important; }` so we also need the `!important` here to be able to override the default hidden behavior on the sphinx rendered scikit-learn.org. See: https://github.com/scikit-learn/scikit-learn/issues/21755 */display: inline-block !important;position: relative;}#sk-container-id-2 div.sk-text-repr-fallback {display: none;}</style><div id=\"sk-container-id-2\" class=\"sk-top-container\"><div class=\"sk-text-repr-fallback\"><pre>LogisticRegression()</pre><b>In a Jupyter environment, please rerun this cell to show the HTML representation or trust the notebook. <br />On GitHub, the HTML representation is unable to render, please try loading this page with nbviewer.org.</b></div><div class=\"sk-container\" hidden><div class=\"sk-item\"><div class=\"sk-estimator sk-toggleable\"><input class=\"sk-toggleable__control sk-hidden--visually\" id=\"sk-estimator-id-2\" type=\"checkbox\" checked><label for=\"sk-estimator-id-2\" class=\"sk-toggleable__label sk-toggleable__label-arrow\">LogisticRegression</label><div class=\"sk-toggleable__content\"><pre>LogisticRegression()</pre></div></div></div></div></div>"
      ],
      "text/plain": [
       "LogisticRegression()"
      ]
     },
     "execution_count": 47,
     "metadata": {},
     "output_type": "execute_result"
    }
   ],
   "source": [
    "from sklearn.linear_model import LogisticRegression\n",
    "\n",
    "# Create the model\n",
    "model = LogisticRegression()\n",
    "\n",
    "# Train the model\n",
    "model.fit(x_train, y_train)"
   ]
  },
  {
   "cell_type": "markdown",
   "metadata": {},
   "source": [
    "##### 8. Predictions"
   ]
  },
  {
   "cell_type": "code",
   "execution_count": 48,
   "metadata": {},
   "outputs": [
    {
     "data": {
      "text/plain": [
       "array([0, 0, 0, 1, 0, 0, 1, 1, 1, 0, 0, 0, 0, 0, 1, 0, 0, 0, 0, 0, 0, 1,\n",
       "       0, 0, 0, 1, 0, 0, 0, 0, 0, 0, 0, 0, 0, 0, 0, 0, 0, 0, 1, 0, 0, 0,\n",
       "       1, 0, 0, 1, 0, 1, 0, 1, 0, 0, 0, 0, 0, 0, 0, 0, 0, 0, 0, 0, 0, 0,\n",
       "       0, 0, 0, 0, 0, 0, 1, 0, 0, 0, 1, 0, 0, 0, 0, 0, 0, 0, 0, 1, 1, 0,\n",
       "       0, 1], dtype=int64)"
      ]
     },
     "execution_count": 48,
     "metadata": {},
     "output_type": "execute_result"
    }
   ],
   "source": [
    "y_pred = model.predict(x_test)\n",
    "# y_pred = model.predict([[26,0,0,78]])\n",
    "\n",
    "y_pred"
   ]
  },
  {
   "cell_type": "markdown",
   "metadata": {},
   "source": [
    "##### 9. Model Evaluation"
   ]
  },
  {
   "cell_type": "code",
   "execution_count": 50,
   "metadata": {},
   "outputs": [
    {
     "name": "stdout",
     "output_type": "stream",
     "text": [
      "Accuracy:  0.6666666666666666\n",
      "Precision:  0.7647058823529411\n",
      "Recall:  0.3333333333333333\n",
      "F1 score:  0.4642857142857143\n"
     ]
    }
   ],
   "source": [
    "from sklearn.metrics import accuracy_score, precision_score, recall_score, f1_score\n",
    "\n",
    "# Accuracy\n",
    "print(\"Accuracy: \", accuracy_score(y_test, y_pred))\n",
    "\n",
    "# Precision\n",
    "print(\"Precision: \", precision_score(y_test, y_pred))\n",
    "\n",
    "# Recall\n",
    "print(\"Recall: \", recall_score(y_test, y_pred))\n",
    "\n",
    "# F1 score\n",
    "print(\"F1 score: \", f1_score(y_test, y_pred))"
   ]
  },
  {
   "cell_type": "markdown",
   "metadata": {},
   "source": [
    "##### 10. Export model with joblib"
   ]
  },
  {
   "cell_type": "code",
   "execution_count": 51,
   "metadata": {},
   "outputs": [
    {
     "data": {
      "text/plain": [
       "['../MyModelTrained/titatic_survival.joblib']"
      ]
     },
     "execution_count": 51,
     "metadata": {},
     "output_type": "execute_result"
    }
   ],
   "source": [
    "from joblib import dump\n",
    "\n",
    "# Save the model\n",
    "dump(model, '../MyModelTrained/titatic_survival.joblib')\n"
   ]
  }
 ],
 "metadata": {
  "kernelspec": {
   "display_name": "env",
   "language": "python",
   "name": "python3"
  },
  "language_info": {
   "codemirror_mode": {
    "name": "ipython",
    "version": 3
   },
   "file_extension": ".py",
   "mimetype": "text/x-python",
   "name": "python",
   "nbconvert_exporter": "python",
   "pygments_lexer": "ipython3",
   "version": "3.10.1"
  },
  "orig_nbformat": 4
 },
 "nbformat": 4,
 "nbformat_minor": 2
}
